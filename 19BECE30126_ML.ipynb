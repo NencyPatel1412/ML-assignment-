{
 "cells": [
  {
   "cell_type": "code",
   "execution_count": 1,
   "id": "1ab6cf1e",
   "metadata": {},
   "outputs": [],
   "source": [
    "import pandas as pd\n",
    "import numpy as np\n",
    "import seaborn as sns\n",
    "import matplotlib.pyplot as plt\n",
    "from sklearn.linear_model import LinearRegression\n",
    "from sklearn.model_selection import train_test_split\n",
    "%matplotlib inline"
   ]
  },
  {
   "cell_type": "code",
   "execution_count": 2,
   "id": "b26c7df1",
   "metadata": {},
   "outputs": [],
   "source": [
    "df=pd.read_csv(\"../DATASET/car-sales-extended-missing-data1.csv\")"
   ]
  },
  {
   "cell_type": "code",
   "execution_count": 31,
   "id": "ca7638bc",
   "metadata": {},
   "outputs": [
    {
     "data": {
      "text/html": [
       "<div>\n",
       "<style scoped>\n",
       "    .dataframe tbody tr th:only-of-type {\n",
       "        vertical-align: middle;\n",
       "    }\n",
       "\n",
       "    .dataframe tbody tr th {\n",
       "        vertical-align: top;\n",
       "    }\n",
       "\n",
       "    .dataframe thead th {\n",
       "        text-align: right;\n",
       "    }\n",
       "</style>\n",
       "<table border=\"1\" class=\"dataframe\">\n",
       "  <thead>\n",
       "    <tr style=\"text-align: right;\">\n",
       "      <th></th>\n",
       "      <th>Make</th>\n",
       "      <th>Colour</th>\n",
       "      <th>Odometer (KM)</th>\n",
       "      <th>Doors</th>\n",
       "      <th>Price</th>\n",
       "    </tr>\n",
       "  </thead>\n",
       "  <tbody>\n",
       "    <tr>\n",
       "      <th>0</th>\n",
       "      <td>Honda</td>\n",
       "      <td>White</td>\n",
       "      <td>35431.0</td>\n",
       "      <td>4.0</td>\n",
       "      <td>15323.0</td>\n",
       "    </tr>\n",
       "    <tr>\n",
       "      <th>1</th>\n",
       "      <td>BMW</td>\n",
       "      <td>Blue</td>\n",
       "      <td>192714.0</td>\n",
       "      <td>5.0</td>\n",
       "      <td>19943.0</td>\n",
       "    </tr>\n",
       "    <tr>\n",
       "      <th>2</th>\n",
       "      <td>Honda</td>\n",
       "      <td>White</td>\n",
       "      <td>84714.0</td>\n",
       "      <td>4.0</td>\n",
       "      <td>28343.0</td>\n",
       "    </tr>\n",
       "    <tr>\n",
       "      <th>3</th>\n",
       "      <td>Toyota</td>\n",
       "      <td>White</td>\n",
       "      <td>154365.0</td>\n",
       "      <td>4.0</td>\n",
       "      <td>13434.0</td>\n",
       "    </tr>\n",
       "    <tr>\n",
       "      <th>4</th>\n",
       "      <td>Nissan</td>\n",
       "      <td>Blue</td>\n",
       "      <td>181577.0</td>\n",
       "      <td>3.0</td>\n",
       "      <td>14043.0</td>\n",
       "    </tr>\n",
       "  </tbody>\n",
       "</table>\n",
       "</div>"
      ],
      "text/plain": [
       "     Make Colour  Odometer (KM)  Doors    Price\n",
       "0   Honda  White        35431.0    4.0  15323.0\n",
       "1     BMW   Blue       192714.0    5.0  19943.0\n",
       "2   Honda  White        84714.0    4.0  28343.0\n",
       "3  Toyota  White       154365.0    4.0  13434.0\n",
       "4  Nissan   Blue       181577.0    3.0  14043.0"
      ]
     },
     "execution_count": 31,
     "metadata": {},
     "output_type": "execute_result"
    }
   ],
   "source": [
    "df.head()"
   ]
  },
  {
   "cell_type": "code",
   "execution_count": 33,
   "id": "c00f1d01",
   "metadata": {},
   "outputs": [
    {
     "name": "stdout",
     "output_type": "stream",
     "text": [
      "<class 'pandas.core.frame.DataFrame'>\n",
      "Int64Index: 773 entries, 0 to 999\n",
      "Data columns (total 5 columns):\n",
      " #   Column         Non-Null Count  Dtype  \n",
      "---  ------         --------------  -----  \n",
      " 0   Make           773 non-null    object \n",
      " 1   Colour         773 non-null    object \n",
      " 2   Odometer (KM)  773 non-null    float64\n",
      " 3   Doors          773 non-null    float64\n",
      " 4   Price          773 non-null    float64\n",
      "dtypes: float64(3), object(2)\n",
      "memory usage: 36.2+ KB\n"
     ]
    }
   ],
   "source": [
    "df.info()"
   ]
  },
  {
   "cell_type": "code",
   "execution_count": 32,
   "id": "17e73766",
   "metadata": {},
   "outputs": [],
   "source": [
    "df=df.dropna()"
   ]
  },
  {
   "cell_type": "code",
   "execution_count": 34,
   "id": "57283cf1",
   "metadata": {},
   "outputs": [
    {
     "data": {
      "text/html": [
       "<div>\n",
       "<style scoped>\n",
       "    .dataframe tbody tr th:only-of-type {\n",
       "        vertical-align: middle;\n",
       "    }\n",
       "\n",
       "    .dataframe tbody tr th {\n",
       "        vertical-align: top;\n",
       "    }\n",
       "\n",
       "    .dataframe thead th {\n",
       "        text-align: right;\n",
       "    }\n",
       "</style>\n",
       "<table border=\"1\" class=\"dataframe\">\n",
       "  <thead>\n",
       "    <tr style=\"text-align: right;\">\n",
       "      <th></th>\n",
       "      <th>Odometer (KM)</th>\n",
       "      <th>Doors</th>\n",
       "      <th>Price</th>\n",
       "    </tr>\n",
       "  </thead>\n",
       "  <tbody>\n",
       "    <tr>\n",
       "      <th>count</th>\n",
       "      <td>773.000000</td>\n",
       "      <td>773.000000</td>\n",
       "      <td>773.000000</td>\n",
       "    </tr>\n",
       "    <tr>\n",
       "      <th>mean</th>\n",
       "      <td>131229.655886</td>\n",
       "      <td>4.010349</td>\n",
       "      <td>16189.523933</td>\n",
       "    </tr>\n",
       "    <tr>\n",
       "      <th>std</th>\n",
       "      <td>69482.980143</td>\n",
       "      <td>0.384137</td>\n",
       "      <td>8540.820948</td>\n",
       "    </tr>\n",
       "    <tr>\n",
       "      <th>min</th>\n",
       "      <td>10148.000000</td>\n",
       "      <td>3.000000</td>\n",
       "      <td>2796.000000</td>\n",
       "    </tr>\n",
       "    <tr>\n",
       "      <th>25%</th>\n",
       "      <td>71283.000000</td>\n",
       "      <td>4.000000</td>\n",
       "      <td>9785.000000</td>\n",
       "    </tr>\n",
       "    <tr>\n",
       "      <th>50%</th>\n",
       "      <td>130494.000000</td>\n",
       "      <td>4.000000</td>\n",
       "      <td>14588.000000</td>\n",
       "    </tr>\n",
       "    <tr>\n",
       "      <th>75%</th>\n",
       "      <td>193006.000000</td>\n",
       "      <td>4.000000</td>\n",
       "      <td>20893.000000</td>\n",
       "    </tr>\n",
       "    <tr>\n",
       "      <th>max</th>\n",
       "      <td>249860.000000</td>\n",
       "      <td>5.000000</td>\n",
       "      <td>52458.000000</td>\n",
       "    </tr>\n",
       "  </tbody>\n",
       "</table>\n",
       "</div>"
      ],
      "text/plain": [
       "       Odometer (KM)       Doors         Price\n",
       "count     773.000000  773.000000    773.000000\n",
       "mean   131229.655886    4.010349  16189.523933\n",
       "std     69482.980143    0.384137   8540.820948\n",
       "min     10148.000000    3.000000   2796.000000\n",
       "25%     71283.000000    4.000000   9785.000000\n",
       "50%    130494.000000    4.000000  14588.000000\n",
       "75%    193006.000000    4.000000  20893.000000\n",
       "max    249860.000000    5.000000  52458.000000"
      ]
     },
     "execution_count": 34,
     "metadata": {},
     "output_type": "execute_result"
    }
   ],
   "source": [
    "df.describe()"
   ]
  },
  {
   "cell_type": "code",
   "execution_count": 35,
   "id": "25db11ca",
   "metadata": {},
   "outputs": [
    {
     "data": {
      "text/plain": [
       "<seaborn.axisgrid.JointGrid at 0x15d2f4770a0>"
      ]
     },
     "execution_count": 35,
     "metadata": {},
     "output_type": "execute_result"
    },
    {
     "data": {
      "image/png": "[encoded data removed]",
      "text/plain": [
       "<Figure size 432x432 with 3 Axes>"
      ]
     },
     "metadata": {
      "needs_background": "light"
     },
     "output_type": "display_data"
    }
   ],
   "source": [
    "sns.jointplot(x=df['Odometer (KM)'], y=df['Price'], data=df, kind='reg')"
   ]
  },
  {
   "cell_type": "code",
   "execution_count": 44,
   "id": "10e5e4a6",
   "metadata": {},
   "outputs": [],
   "source": [
    "x=df[\"Odometer (KM)\"]\n",
    "y=df[\"Price\"]\n",
    "x_train, x_test, y_train, y_test = train_test_split(x,y, test_size=0.2, random_state=42)\n",
    "x_train = x_train.to_numpy()\n",
    "x_test = x_test.to_numpy()\n",
    "y_train = y_train.to_numpy()\n",
    "y_test = y_test.to_numpy()\n",
    "\n",
    "x_train = np.reshape(x_train, (-1,1))\n",
    "x_test = np.reshape(x_test, (-1,1))\n",
    "y_train = np.reshape(y_train, (-1,1))\n",
    "y_test = np.reshape(y_test, (-1,1))"
   ]
  },
  {
   "cell_type": "code",
   "execution_count": 45,
   "id": "2ce600b1",
   "metadata": {},
   "outputs": [],
   "source": [
    "# calculate co-efficient\n",
    "def theta_calc(x_train, y_train): \n",
    "    #Initializing all variables\n",
    "    n_data = x_train.shape[0]\n",
    "    \n",
    "    bias = np.ones((n_data,1))\n",
    "    x_train_b = np.append(bias, x_train, axis=1)\n",
    "\n",
    "    theta_1 = np.linalg.inv(np.dot(x_train_b.T,x_train_b))\n",
    "    theta_2 = np.dot(theta_1, x_train_b.T)\n",
    "    theta = np.dot(theta_2,y_train)\n",
    "\n",
    "    return theta"
   ]
  },
  {
   "cell_type": "code",
   "execution_count": 46,
   "id": "1ac70097",
   "metadata": {},
   "outputs": [],
   "source": [
    "def predict_func(slope,intercept,x_test):\n",
    "    \n",
    "    pred = []\n",
    "    n_data = x_test.shape[0]\n",
    "    for i in range(n_data):\n",
    "        pred.append((slope * x_test[i] + intercept))\n",
    "             \n",
    "    return pred\n"
   ]
  },
  {
   "cell_type": "code",
   "execution_count": 47,
   "id": "bcf86478",
   "metadata": {},
   "outputs": [],
   "source": [
    "def mse_calc(prediction, y_test):\n",
    "    \n",
    "    total_data = len(prediction)\n",
    "    error = 0\n",
    "    error = (np.sum((prediction - y_test)**2))/total_data\n",
    "    return error\n"
   ]
  },
  {
   "cell_type": "code",
   "execution_count": 48,
   "id": "438e0083",
   "metadata": {},
   "outputs": [],
   "source": [
    "def rsq(prediction, y_test):\n",
    "\n",
    "    total_data = len(prediction)\n",
    "    \n",
    "    #Average of total prediction \n",
    "    y_avg = np.sum(y_test)/total_data\n",
    "    \n",
    "    #total sum of square error\n",
    "    tot_err = np.sum((y_test-y_avg)**2)\n",
    "    \n",
    "    #total sum of squared error of residuals\n",
    "    res_err = np.sum((y_test-prediction)**2)\n",
    "    r2 = 1 - (res_err / tot_err)\n",
    "    return r2"
   ]
  },
  {
   "cell_type": "code",
   "execution_count": 49,
   "id": "5dee8265",
   "metadata": {},
   "outputs": [
    {
     "name": "stdout",
     "output_type": "stream",
     "text": [
      "Intercept of the model [22946.94241182]\n",
      "Slope of the model [-0.05222222]\n"
     ]
    }
   ],
   "source": [
    "#Finding optimal theta value using normal equations\n",
    "theta = theta_calc(x_train, y_train)\n",
    "intercept = theta[0]\n",
    "slope = theta[1]\n",
    "print('Intercept of the model', intercept)\n",
    "print('Slope of the model',slope)"
   ]
  },
  {
   "cell_type": "code",
   "execution_count": 50,
   "id": "c800956c",
   "metadata": {},
   "outputs": [],
   "source": [
    "#Prediction calculation\n",
    "prediction = predict_func(slope, intercept, x_test)"
   ]
  },
  {
   "cell_type": "code",
   "execution_count": 51,
   "id": "5179e1cd",
   "metadata": {},
   "outputs": [
    {
     "name": "stdout",
     "output_type": "stream",
     "text": [
      "R squared value 0.20115050811192792\n"
     ]
    }
   ],
   "source": [
    "#R-square calculation\n",
    "r2_val = rsq(prediction, y_test)\n",
    "print('R squared value', r2_val)"
   ]
  },
  {
   "cell_type": "code",
   "execution_count": 52,
   "id": "51ea1385",
   "metadata": {},
   "outputs": [
    {
     "name": "stdout",
     "output_type": "stream",
     "text": [
      "Mean squared error of the model 57851649.65895851\n"
     ]
    }
   ],
   "source": [
    "#MSE calculation\n",
    "pred_df = pd.DataFrame(prediction)\n",
    "pred_df.columns=['Price']\n",
    "error =  mse_calc(prediction, y_test)\n",
    "print('Mean squared error of the model', error)"
   ]
  },
  {
   "cell_type": "code",
   "execution_count": 53,
   "id": "e8c9c4a0",
   "metadata": {},
   "outputs": [
    {
     "data": {
      "text/plain": [
       "57851649.65895851"
      ]
     },
     "execution_count": 53,
     "metadata": {},
     "output_type": "execute_result"
    }
   ],
   "source": [
    "error = (np.sum((prediction - y_test)**2))/len(prediction)\n",
    "error"
   ]
  }
 ],
 "metadata": {
  "kernelspec": {
   "display_name": "Python 3",
   "language": "python",
   "name": "python3"
  },
  "language_info": {
   "codemirror_mode": {
    "name": "ipython",
    "version": 3
   },
   "file_extension": ".py",
   "mimetype": "text/x-python",
   "name": "python",
   "nbconvert_exporter": "python",
   "pygments_lexer": "ipython3",
   "version": "3.8.8"
  }
 },
 "nbformat": 4,
 "nbformat_minor": 5
}
